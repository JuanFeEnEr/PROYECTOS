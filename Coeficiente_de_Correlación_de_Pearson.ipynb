{
  "nbformat": 4,
  "nbformat_minor": 0,
  "metadata": {
    "colab": {
      "provenance": [],
      "authorship_tag": "ABX9TyPvmJ6vAZitdamTdQLtcEDw",
      "include_colab_link": true
    },
    "kernelspec": {
      "name": "python3",
      "display_name": "Python 3"
    },
    "language_info": {
      "name": "python"
    }
  },
  "cells": [
    {
      "cell_type": "markdown",
      "metadata": {
        "id": "view-in-github",
        "colab_type": "text"
      },
      "source": [
        "<a href=\"https://colab.research.google.com/github/JuanFeEnEr/PROYECTOS/blob/main/Coeficiente_de_Correlaci%C3%B3n_de_Pearson.ipynb\" target=\"_parent\"><img src=\"https://colab.research.google.com/assets/colab-badge.svg\" alt=\"Open In Colab\"/></a>"
      ]
    },
    {
      "cell_type": "code",
      "source": [
        "#Coeficiente de Correlacion de Pearson\n",
        "import math\n",
        "\n",
        "print(\"+------------------------------------------------------+\")\n",
        "print(\"Xi = | 1 || 2 || 3 || 4 || 5 || 6 || 7 || 8 || 9 || 10 |\")\n",
        "print(\"Yi = | 10 || 9 || 8 || 7 || 6 || 5 || 4 || 3 || 2 || 1 |\")\n",
        "print(\"+------------------------------------------------------+\")\n",
        "\n",
        "Xi = float(input(\"Digte hasta qué número se calculará X trazo = \"))\n",
        "Yi = float(input(\"Digte hasta qué número se calculará Y trazo = \"))\n",
        "\n",
        "# X trazo\n",
        "xT = 1\n",
        "xin = 0\n",
        "for i in range(1, int(Xi) + 1):\n",
        "    xin = xin + i\n",
        "    xT = xin / Xi\n",
        "print(\"X Trazo = \",xT)\n",
        "\n",
        "# Y trazo\n",
        "yT = 1\n",
        "yin = 0\n",
        "for c in range(10, int(Yi) - 1, -1):\n",
        "    yin = yin + c\n",
        "    yT = yin / Xi\n",
        "print(\"Y Trazo = \",yT)\n",
        "\n",
        "# numerador\n",
        "X = 1\n",
        "Y = 10\n",
        "n = 10\n",
        "numerador = 0\n",
        "for h in range(1, n + 1):\n",
        "    xp = X - xT\n",
        "    X = X + 1\n",
        "    yp = Y - yT\n",
        "    Y = Y - 1\n",
        "    numerador = xp * yp + numerador\n",
        "print(\"Numerador = \",numerador)\n",
        "\n",
        "# denominador\n",
        "x_tot = 0\n",
        "y_tot = 0\n",
        "X = 1\n",
        "Y = 10\n",
        "for h in range(1, n + 1):\n",
        "    x_den = math.pow(X, 2) - math.pow(xT, 2)\n",
        "    X = X + 1\n",
        "    y_den = math.pow(Y, 2) - math.pow(yT, 2)\n",
        "    Y = Y - 1\n",
        "    x_tot = x_tot + x_den\n",
        "    y_tot = y_tot + y_den\n",
        "denominador = math.sqrt(x_tot) * math.sqrt(y_tot)\n",
        "print(\"Denominador = \",denominador)\n",
        "\n",
        "pearson = numerador / denominador\n",
        "print(\"El Coeficiente de Correlación de Pearson es igual a = \",pearson)"
      ],
      "metadata": {
        "colab": {
          "base_uri": "https://localhost:8080/"
        },
        "id": "N9ACmgl1cWQZ",
        "outputId": "1c864b0c-ef6b-41e9-fa72-ddb070668981"
      },
      "execution_count": 10,
      "outputs": [
        {
          "output_type": "stream",
          "name": "stdout",
          "text": [
            "+------------------------------------------------------+\n",
            "Xi = | 1 || 2 || 3 || 4 || 5 || 6 || 7 || 8 || 9 || 10 |\n",
            "Yi = | 10 || 9 || 8 || 7 || 6 || 5 || 4 || 3 || 2 || 1 |\n",
            "+------------------------------------------------------+\n",
            "Digte hasta qué número se calculará X trazo = 10\n",
            "Digte hasta qué número se calculará Y trazo = 1\n",
            "X Trazo =  5.5\n",
            "Y Trazo =  5.5\n",
            "Numerador =  -82.5\n",
            "Denominador =  82.5\n",
            "El Coeficiente de Correlación de Pearson es igual a =  -1.0\n"
          ]
        }
      ]
    }
  ]
}